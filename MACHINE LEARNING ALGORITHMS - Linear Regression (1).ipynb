{
 "cells": [
  {
   "cell_type": "markdown",
   "id": "5107d0c0",
   "metadata": {},
   "source": [
    "## Importing Relevant Libraries"
   ]
  },
  {
   "cell_type": "code",
   "execution_count": 1,
   "id": "089d2416",
   "metadata": {},
   "outputs": [],
   "source": [
    "import pandas as pd\n",
    "import numpy as np\n",
    "from sklearn.preprocessing import LabelEncoder\n",
    "from sklearn.linear_model import LinearRegression\n",
    "from sklearn.metrics import r2_score, mean_squared_error\n",
    "import matplotlib.pyplot as plt\n",
    "%matplotlib inline"
   ]
  },
  {
   "cell_type": "markdown",
   "id": "7df20d5e",
   "metadata": {},
   "source": [
    "## Importing datasets"
   ]
  },
  {
   "cell_type": "code",
   "execution_count": 2,
   "id": "35e2c1a9",
   "metadata": {},
   "outputs": [],
   "source": [
    "train=pd.read_csv(\"train.csv\")\n",
    "test=pd.read_csv(\"test.csv\")"
   ]
  },
  {
   "cell_type": "markdown",
   "id": "e756e39e",
   "metadata": {},
   "source": [
    "## Combining the two datasets"
   ]
  },
  {
   "cell_type": "code",
   "execution_count": 3,
   "id": "90f18247",
   "metadata": {},
   "outputs": [
    {
     "data": {
      "text/html": [
       "<div>\n",
       "<style scoped>\n",
       "    .dataframe tbody tr th:only-of-type {\n",
       "        vertical-align: middle;\n",
       "    }\n",
       "\n",
       "    .dataframe tbody tr th {\n",
       "        vertical-align: top;\n",
       "    }\n",
       "\n",
       "    .dataframe thead th {\n",
       "        text-align: right;\n",
       "    }\n",
       "</style>\n",
       "<table border=\"1\" class=\"dataframe\">\n",
       "  <thead>\n",
       "    <tr style=\"text-align: right;\">\n",
       "      <th></th>\n",
       "      <th>PassengerId</th>\n",
       "      <th>Survived</th>\n",
       "      <th>Pclass</th>\n",
       "      <th>Name</th>\n",
       "      <th>Sex</th>\n",
       "      <th>Age</th>\n",
       "      <th>SibSp</th>\n",
       "      <th>Parch</th>\n",
       "      <th>Ticket</th>\n",
       "      <th>Fare</th>\n",
       "      <th>Cabin</th>\n",
       "      <th>Embarked</th>\n",
       "    </tr>\n",
       "  </thead>\n",
       "  <tbody>\n",
       "    <tr>\n",
       "      <th>0</th>\n",
       "      <td>1</td>\n",
       "      <td>0.0</td>\n",
       "      <td>3</td>\n",
       "      <td>Braund, Mr. Owen Harris</td>\n",
       "      <td>male</td>\n",
       "      <td>22.0</td>\n",
       "      <td>1</td>\n",
       "      <td>0</td>\n",
       "      <td>A/5 21171</td>\n",
       "      <td>7.2500</td>\n",
       "      <td>NaN</td>\n",
       "      <td>S</td>\n",
       "    </tr>\n",
       "    <tr>\n",
       "      <th>1</th>\n",
       "      <td>2</td>\n",
       "      <td>1.0</td>\n",
       "      <td>1</td>\n",
       "      <td>Cumings, Mrs. John Bradley (Florence Briggs Th...</td>\n",
       "      <td>female</td>\n",
       "      <td>38.0</td>\n",
       "      <td>1</td>\n",
       "      <td>0</td>\n",
       "      <td>PC 17599</td>\n",
       "      <td>71.2833</td>\n",
       "      <td>C85</td>\n",
       "      <td>C</td>\n",
       "    </tr>\n",
       "    <tr>\n",
       "      <th>2</th>\n",
       "      <td>3</td>\n",
       "      <td>1.0</td>\n",
       "      <td>3</td>\n",
       "      <td>Heikkinen, Miss. Laina</td>\n",
       "      <td>female</td>\n",
       "      <td>26.0</td>\n",
       "      <td>0</td>\n",
       "      <td>0</td>\n",
       "      <td>STON/O2. 3101282</td>\n",
       "      <td>7.9250</td>\n",
       "      <td>NaN</td>\n",
       "      <td>S</td>\n",
       "    </tr>\n",
       "    <tr>\n",
       "      <th>3</th>\n",
       "      <td>4</td>\n",
       "      <td>1.0</td>\n",
       "      <td>1</td>\n",
       "      <td>Futrelle, Mrs. Jacques Heath (Lily May Peel)</td>\n",
       "      <td>female</td>\n",
       "      <td>35.0</td>\n",
       "      <td>1</td>\n",
       "      <td>0</td>\n",
       "      <td>113803</td>\n",
       "      <td>53.1000</td>\n",
       "      <td>C123</td>\n",
       "      <td>S</td>\n",
       "    </tr>\n",
       "    <tr>\n",
       "      <th>4</th>\n",
       "      <td>5</td>\n",
       "      <td>0.0</td>\n",
       "      <td>3</td>\n",
       "      <td>Allen, Mr. William Henry</td>\n",
       "      <td>male</td>\n",
       "      <td>35.0</td>\n",
       "      <td>0</td>\n",
       "      <td>0</td>\n",
       "      <td>373450</td>\n",
       "      <td>8.0500</td>\n",
       "      <td>NaN</td>\n",
       "      <td>S</td>\n",
       "    </tr>\n",
       "    <tr>\n",
       "      <th>...</th>\n",
       "      <td>...</td>\n",
       "      <td>...</td>\n",
       "      <td>...</td>\n",
       "      <td>...</td>\n",
       "      <td>...</td>\n",
       "      <td>...</td>\n",
       "      <td>...</td>\n",
       "      <td>...</td>\n",
       "      <td>...</td>\n",
       "      <td>...</td>\n",
       "      <td>...</td>\n",
       "      <td>...</td>\n",
       "    </tr>\n",
       "    <tr>\n",
       "      <th>1304</th>\n",
       "      <td>1305</td>\n",
       "      <td>NaN</td>\n",
       "      <td>3</td>\n",
       "      <td>Spector, Mr. Woolf</td>\n",
       "      <td>male</td>\n",
       "      <td>NaN</td>\n",
       "      <td>0</td>\n",
       "      <td>0</td>\n",
       "      <td>A.5. 3236</td>\n",
       "      <td>8.0500</td>\n",
       "      <td>NaN</td>\n",
       "      <td>S</td>\n",
       "    </tr>\n",
       "    <tr>\n",
       "      <th>1305</th>\n",
       "      <td>1306</td>\n",
       "      <td>NaN</td>\n",
       "      <td>1</td>\n",
       "      <td>Oliva y Ocana, Dona. Fermina</td>\n",
       "      <td>female</td>\n",
       "      <td>39.0</td>\n",
       "      <td>0</td>\n",
       "      <td>0</td>\n",
       "      <td>PC 17758</td>\n",
       "      <td>108.9000</td>\n",
       "      <td>C105</td>\n",
       "      <td>C</td>\n",
       "    </tr>\n",
       "    <tr>\n",
       "      <th>1306</th>\n",
       "      <td>1307</td>\n",
       "      <td>NaN</td>\n",
       "      <td>3</td>\n",
       "      <td>Saether, Mr. Simon Sivertsen</td>\n",
       "      <td>male</td>\n",
       "      <td>38.5</td>\n",
       "      <td>0</td>\n",
       "      <td>0</td>\n",
       "      <td>SOTON/O.Q. 3101262</td>\n",
       "      <td>7.2500</td>\n",
       "      <td>NaN</td>\n",
       "      <td>S</td>\n",
       "    </tr>\n",
       "    <tr>\n",
       "      <th>1307</th>\n",
       "      <td>1308</td>\n",
       "      <td>NaN</td>\n",
       "      <td>3</td>\n",
       "      <td>Ware, Mr. Frederick</td>\n",
       "      <td>male</td>\n",
       "      <td>NaN</td>\n",
       "      <td>0</td>\n",
       "      <td>0</td>\n",
       "      <td>359309</td>\n",
       "      <td>8.0500</td>\n",
       "      <td>NaN</td>\n",
       "      <td>S</td>\n",
       "    </tr>\n",
       "    <tr>\n",
       "      <th>1308</th>\n",
       "      <td>1309</td>\n",
       "      <td>NaN</td>\n",
       "      <td>3</td>\n",
       "      <td>Peter, Master. Michael J</td>\n",
       "      <td>male</td>\n",
       "      <td>NaN</td>\n",
       "      <td>1</td>\n",
       "      <td>1</td>\n",
       "      <td>2668</td>\n",
       "      <td>22.3583</td>\n",
       "      <td>NaN</td>\n",
       "      <td>C</td>\n",
       "    </tr>\n",
       "  </tbody>\n",
       "</table>\n",
       "<p>1309 rows × 12 columns</p>\n",
       "</div>"
      ],
      "text/plain": [
       "      PassengerId  Survived  Pclass  \\\n",
       "0               1       0.0       3   \n",
       "1               2       1.0       1   \n",
       "2               3       1.0       3   \n",
       "3               4       1.0       1   \n",
       "4               5       0.0       3   \n",
       "...           ...       ...     ...   \n",
       "1304         1305       NaN       3   \n",
       "1305         1306       NaN       1   \n",
       "1306         1307       NaN       3   \n",
       "1307         1308       NaN       3   \n",
       "1308         1309       NaN       3   \n",
       "\n",
       "                                                   Name     Sex   Age  SibSp  \\\n",
       "0                               Braund, Mr. Owen Harris    male  22.0      1   \n",
       "1     Cumings, Mrs. John Bradley (Florence Briggs Th...  female  38.0      1   \n",
       "2                                Heikkinen, Miss. Laina  female  26.0      0   \n",
       "3          Futrelle, Mrs. Jacques Heath (Lily May Peel)  female  35.0      1   \n",
       "4                              Allen, Mr. William Henry    male  35.0      0   \n",
       "...                                                 ...     ...   ...    ...   \n",
       "1304                                 Spector, Mr. Woolf    male   NaN      0   \n",
       "1305                       Oliva y Ocana, Dona. Fermina  female  39.0      0   \n",
       "1306                       Saether, Mr. Simon Sivertsen    male  38.5      0   \n",
       "1307                                Ware, Mr. Frederick    male   NaN      0   \n",
       "1308                           Peter, Master. Michael J    male   NaN      1   \n",
       "\n",
       "      Parch              Ticket      Fare Cabin Embarked  \n",
       "0         0           A/5 21171    7.2500   NaN        S  \n",
       "1         0            PC 17599   71.2833   C85        C  \n",
       "2         0    STON/O2. 3101282    7.9250   NaN        S  \n",
       "3         0              113803   53.1000  C123        S  \n",
       "4         0              373450    8.0500   NaN        S  \n",
       "...     ...                 ...       ...   ...      ...  \n",
       "1304      0           A.5. 3236    8.0500   NaN        S  \n",
       "1305      0            PC 17758  108.9000  C105        C  \n",
       "1306      0  SOTON/O.Q. 3101262    7.2500   NaN        S  \n",
       "1307      0              359309    8.0500   NaN        S  \n",
       "1308      1                2668   22.3583   NaN        C  \n",
       "\n",
       "[1309 rows x 12 columns]"
      ]
     },
     "execution_count": 3,
     "metadata": {},
     "output_type": "execute_result"
    }
   ],
   "source": [
    "data=pd.concat([train,test],ignore_index=True)\n",
    "data"
   ]
  },
  {
   "cell_type": "markdown",
   "id": "38e3be6b",
   "metadata": {},
   "source": [
    "## Checking for both missing and unique values"
   ]
  },
  {
   "cell_type": "code",
   "execution_count": 4,
   "id": "5a305604",
   "metadata": {},
   "outputs": [
    {
     "data": {
      "text/plain": [
       "PassengerId       0\n",
       "Survived        418\n",
       "Pclass            0\n",
       "Name              0\n",
       "Sex               0\n",
       "Age             263\n",
       "SibSp             0\n",
       "Parch             0\n",
       "Ticket            0\n",
       "Fare              1\n",
       "Cabin          1014\n",
       "Embarked          2\n",
       "dtype: int64"
      ]
     },
     "execution_count": 4,
     "metadata": {},
     "output_type": "execute_result"
    }
   ],
   "source": [
    "data.isnull().sum()"
   ]
  },
  {
   "cell_type": "code",
   "execution_count": 5,
   "id": "d7bb97d1",
   "metadata": {},
   "outputs": [
    {
     "data": {
      "text/plain": [
       "PassengerId    1309\n",
       "Survived          2\n",
       "Pclass            3\n",
       "Name           1307\n",
       "Sex               2\n",
       "Age              98\n",
       "SibSp             7\n",
       "Parch             8\n",
       "Ticket          929\n",
       "Fare            281\n",
       "Cabin           186\n",
       "Embarked          3\n",
       "dtype: int64"
      ]
     },
     "execution_count": 5,
     "metadata": {},
     "output_type": "execute_result"
    }
   ],
   "source": [
    "data.nunique()"
   ]
  },
  {
   "cell_type": "markdown",
   "id": "9db7c788",
   "metadata": {},
   "source": [
    "## Replacing the missing values with mode"
   ]
  },
  {
   "cell_type": "code",
   "execution_count": 6,
   "id": "6cd1dd0e",
   "metadata": {},
   "outputs": [],
   "source": [
    "data['Age'].fillna(data['Age'].mode()[0],inplace=True)\n",
    "data['Survived'].fillna(data['Survived'].mode()[0],inplace=True)\n",
    "data['Fare'].fillna(data['Fare'].mode()[0],inplace=True)\n",
    "data['Cabin'].fillna(data['Cabin'].mode()[0],inplace=True)\n",
    "data['Embarked'].fillna(data['Embarked'].mode()[0],inplace=True)"
   ]
  },
  {
   "cell_type": "code",
   "execution_count": 7,
   "id": "e3937c7e",
   "metadata": {},
   "outputs": [
    {
     "data": {
      "text/plain": [
       "PassengerId    0\n",
       "Survived       0\n",
       "Pclass         0\n",
       "Name           0\n",
       "Sex            0\n",
       "Age            0\n",
       "SibSp          0\n",
       "Parch          0\n",
       "Ticket         0\n",
       "Fare           0\n",
       "Cabin          0\n",
       "Embarked       0\n",
       "dtype: int64"
      ]
     },
     "execution_count": 7,
     "metadata": {},
     "output_type": "execute_result"
    }
   ],
   "source": [
    "data.isnull().sum()"
   ]
  },
  {
   "cell_type": "markdown",
   "id": "aab0718e",
   "metadata": {},
   "source": [
    "## Realization of five number of summary"
   ]
  },
  {
   "cell_type": "code",
   "execution_count": 8,
   "id": "484d6772",
   "metadata": {},
   "outputs": [],
   "source": [
    "largest_value=data[\"Fare\"].max()\n",
    "smallest_value=data[\"Fare\"].min()\n",
    "Q1=data[\"Fare\"].quantile(0.25)\n",
    "Q2=data[\"Fare\"].quantile(0.50)\n",
    "Q3=data[\"Fare\"].quantile(0.75)"
   ]
  },
  {
   "cell_type": "markdown",
   "id": "944ea337",
   "metadata": {},
   "source": [
    "## Removing the outliers"
   ]
  },
  {
   "cell_type": "markdown",
   "id": "cfa95ec8",
   "metadata": {},
   "source": [
    "### Detection of outliers boxplot"
   ]
  },
  {
   "cell_type": "code",
   "execution_count": 9,
   "id": "3f242fda",
   "metadata": {},
   "outputs": [
    {
     "data": {
      "text/plain": [
       "<AxesSubplot:>"
      ]
     },
     "execution_count": 9,
     "metadata": {},
     "output_type": "execute_result"
    },
    {
     "data": {
      "image/png": "[encoded data removed]",
      "text/plain": [
       "<Figure size 432x288 with 1 Axes>"
      ]
     },
     "metadata": {
      "needs_background": "light"
     },
     "output_type": "display_data"
    }
   ],
   "source": [
    "data.boxplot(\"Fare\")"
   ]
  },
  {
   "cell_type": "markdown",
   "id": "f1677ba0",
   "metadata": {},
   "source": [
    "### Replacing the data points that lie outside of the lower and the upper bounds with NULL values (nan)"
   ]
  },
  {
   "cell_type": "code",
   "execution_count": 10,
   "id": "3a121cab",
   "metadata": {},
   "outputs": [],
   "source": [
    "#np.percentile() is used to calculate the Q1 and Q3. Further, we replace the outliers with NULL values using function np.nan\n",
    "\n",
    "for x in [\"Fare\"]:\n",
    "    Q3,Q1=np.percentile(data.loc[:,x],[75,25])\n",
    "    interquartile_range=Q3-Q1\n",
    "    \n",
    "    max=Q3+(1.5*interquartile_range)\n",
    "    min=Q1-(1.5*interquartile_range)\n",
    "    \n",
    "    data.loc[data[x]<min,x]=np.nan\n",
    "    data.loc[data[x]>max,x]=np.nan"
   ]
  },
  {
   "cell_type": "markdown",
   "id": "783620f3",
   "metadata": {},
   "source": [
    "### we check for misssing values after replacing the outliers"
   ]
  },
  {
   "cell_type": "code",
   "execution_count": 11,
   "id": "71a47aad",
   "metadata": {},
   "outputs": [
    {
     "data": {
      "text/plain": [
       "PassengerId      0\n",
       "Survived         0\n",
       "Pclass           0\n",
       "Name             0\n",
       "Sex              0\n",
       "Age              0\n",
       "SibSp            0\n",
       "Parch            0\n",
       "Ticket           0\n",
       "Fare           171\n",
       "Cabin            0\n",
       "Embarked         0\n",
       "dtype: int64"
      ]
     },
     "execution_count": 11,
     "metadata": {},
     "output_type": "execute_result"
    }
   ],
   "source": [
    "data.isnull().sum()"
   ]
  },
  {
   "cell_type": "markdown",
   "id": "e12e1b04",
   "metadata": {},
   "source": [
    "### we drop the NULL values"
   ]
  },
  {
   "cell_type": "code",
   "execution_count": 12,
   "id": "7833ca7d",
   "metadata": {},
   "outputs": [],
   "source": [
    "data=data.dropna(axis=0)"
   ]
  },
  {
   "cell_type": "code",
   "execution_count": 13,
   "id": "d96a76e1",
   "metadata": {},
   "outputs": [
    {
     "data": {
      "text/plain": [
       "PassengerId    0\n",
       "Survived       0\n",
       "Pclass         0\n",
       "Name           0\n",
       "Sex            0\n",
       "Age            0\n",
       "SibSp          0\n",
       "Parch          0\n",
       "Ticket         0\n",
       "Fare           0\n",
       "Cabin          0\n",
       "Embarked       0\n",
       "dtype: int64"
      ]
     },
     "execution_count": 13,
     "metadata": {},
     "output_type": "execute_result"
    }
   ],
   "source": [
    "data.isnull().sum()"
   ]
  },
  {
   "cell_type": "markdown",
   "id": "c7d742a1",
   "metadata": {},
   "source": [
    "## Coding categorical variables as numerical variables"
   ]
  },
  {
   "cell_type": "code",
   "execution_count": 14,
   "id": "ab749841",
   "metadata": {},
   "outputs": [
    {
     "name": "stderr",
     "output_type": "stream",
     "text": [
      "C:\\Users\\Boss\\AppData\\Local\\Temp/ipykernel_10492/3839898235.py:2: SettingWithCopyWarning: \n",
      "A value is trying to be set on a copy of a slice from a DataFrame.\n",
      "Try using .loc[row_indexer,col_indexer] = value instead\n",
      "\n",
      "See the caveats in the documentation: https://pandas.pydata.org/pandas-docs/stable/user_guide/indexing.html#returning-a-view-versus-a-copy\n",
      "  data['Sex']=le.fit_transform(data['Sex'])\n"
     ]
    }
   ],
   "source": [
    "le=LabelEncoder()\n",
    "data['Sex']=le.fit_transform(data['Sex'])"
   ]
  },
  {
   "cell_type": "markdown",
   "id": "6cc3f971",
   "metadata": {},
   "source": [
    "### Creating dummies for the variable"
   ]
  },
  {
   "cell_type": "code",
   "execution_count": 15,
   "id": "37690a3b",
   "metadata": {},
   "outputs": [
    {
     "data": {
      "text/html": [
       "<div>\n",
       "<style scoped>\n",
       "    .dataframe tbody tr th:only-of-type {\n",
       "        vertical-align: middle;\n",
       "    }\n",
       "\n",
       "    .dataframe tbody tr th {\n",
       "        vertical-align: top;\n",
       "    }\n",
       "\n",
       "    .dataframe thead th {\n",
       "        text-align: right;\n",
       "    }\n",
       "</style>\n",
       "<table border=\"1\" class=\"dataframe\">\n",
       "  <thead>\n",
       "    <tr style=\"text-align: right;\">\n",
       "      <th></th>\n",
       "      <th>0</th>\n",
       "      <th>1</th>\n",
       "    </tr>\n",
       "  </thead>\n",
       "  <tbody>\n",
       "    <tr>\n",
       "      <th>0</th>\n",
       "      <td>0</td>\n",
       "      <td>1</td>\n",
       "    </tr>\n",
       "    <tr>\n",
       "      <th>2</th>\n",
       "      <td>1</td>\n",
       "      <td>0</td>\n",
       "    </tr>\n",
       "    <tr>\n",
       "      <th>3</th>\n",
       "      <td>1</td>\n",
       "      <td>0</td>\n",
       "    </tr>\n",
       "    <tr>\n",
       "      <th>4</th>\n",
       "      <td>0</td>\n",
       "      <td>1</td>\n",
       "    </tr>\n",
       "    <tr>\n",
       "      <th>5</th>\n",
       "      <td>0</td>\n",
       "      <td>1</td>\n",
       "    </tr>\n",
       "    <tr>\n",
       "      <th>...</th>\n",
       "      <td>...</td>\n",
       "      <td>...</td>\n",
       "    </tr>\n",
       "    <tr>\n",
       "      <th>1303</th>\n",
       "      <td>1</td>\n",
       "      <td>0</td>\n",
       "    </tr>\n",
       "    <tr>\n",
       "      <th>1304</th>\n",
       "      <td>0</td>\n",
       "      <td>1</td>\n",
       "    </tr>\n",
       "    <tr>\n",
       "      <th>1306</th>\n",
       "      <td>0</td>\n",
       "      <td>1</td>\n",
       "    </tr>\n",
       "    <tr>\n",
       "      <th>1307</th>\n",
       "      <td>0</td>\n",
       "      <td>1</td>\n",
       "    </tr>\n",
       "    <tr>\n",
       "      <th>1308</th>\n",
       "      <td>0</td>\n",
       "      <td>1</td>\n",
       "    </tr>\n",
       "  </tbody>\n",
       "</table>\n",
       "<p>1138 rows × 2 columns</p>\n",
       "</div>"
      ],
      "text/plain": [
       "      0  1\n",
       "0     0  1\n",
       "2     1  0\n",
       "3     1  0\n",
       "4     0  1\n",
       "5     0  1\n",
       "...  .. ..\n",
       "1303  1  0\n",
       "1304  0  1\n",
       "1306  0  1\n",
       "1307  0  1\n",
       "1308  0  1\n",
       "\n",
       "[1138 rows x 2 columns]"
      ]
     },
     "execution_count": 15,
     "metadata": {},
     "output_type": "execute_result"
    }
   ],
   "source": [
    "dummy=pd.get_dummies(data['Sex'])\n",
    "dummy"
   ]
  },
  {
   "cell_type": "code",
   "execution_count": 16,
   "id": "71c3e689",
   "metadata": {},
   "outputs": [
    {
     "data": {
      "text/plain": [
       "PassengerId      int64\n",
       "Survived       float64\n",
       "Pclass           int64\n",
       "Name            object\n",
       "Age            float64\n",
       "SibSp            int64\n",
       "Parch            int64\n",
       "Ticket          object\n",
       "Fare           float64\n",
       "Cabin           object\n",
       "Sex_0            uint8\n",
       "Sex_1            uint8\n",
       "Embarked_C       uint8\n",
       "Embarked_Q       uint8\n",
       "Embarked_S       uint8\n",
       "dtype: object"
      ]
     },
     "execution_count": 16,
     "metadata": {},
     "output_type": "execute_result"
    }
   ],
   "source": [
    "dummy2=pd.get_dummies(data,columns=[\"Sex\",\"Embarked\"])\n",
    "dummy2.dtypes"
   ]
  },
  {
   "cell_type": "markdown",
   "id": "f01a6220",
   "metadata": {},
   "source": [
    "## Training Data"
   ]
  },
  {
   "cell_type": "code",
   "execution_count": 17,
   "id": "22751b14",
   "metadata": {},
   "outputs": [
    {
     "data": {
      "text/plain": [
       "Index(['PassengerId', 'Survived', 'Pclass', 'Name', 'Sex', 'Age', 'SibSp',\n",
       "       'Parch', 'Ticket', 'Fare', 'Cabin', 'Embarked'],\n",
       "      dtype='object')"
      ]
     },
     "execution_count": 17,
     "metadata": {},
     "output_type": "execute_result"
    }
   ],
   "source": [
    "train.columns"
   ]
  },
  {
   "cell_type": "code",
   "execution_count": 18,
   "id": "09e71ac9",
   "metadata": {},
   "outputs": [
    {
     "data": {
      "text/plain": [
       "Index(['PassengerId', 'Pclass', 'Name', 'Sex', 'Age', 'SibSp', 'Parch',\n",
       "       'Ticket', 'Fare', 'Cabin', 'Embarked'],\n",
       "      dtype='object')"
      ]
     },
     "execution_count": 18,
     "metadata": {},
     "output_type": "execute_result"
    }
   ],
   "source": [
    "test.columns"
   ]
  },
  {
   "cell_type": "code",
   "execution_count": 19,
   "id": "3d05ca43",
   "metadata": {},
   "outputs": [],
   "source": [
    "train['Age'].fillna(train['Age'].mode()[0],inplace=True)\n",
    "test['Parch'].fillna(test['Parch'].mode()[0],inplace=True)\n",
    "train['Parch'].fillna(train['Parch'].mode()[0],inplace=True)\n",
    "train['Fare'].fillna(train['Fare'].mode()[0],inplace=True)\n",
    "test['Age'].fillna(test['Age'].mode()[0],inplace=True)\n",
    "test['Fare'].fillna(test['Fare'].mode()[0],inplace=True)"
   ]
  },
  {
   "cell_type": "code",
   "execution_count": 20,
   "id": "74acde78",
   "metadata": {},
   "outputs": [
    {
     "data": {
      "text/plain": [
       "PassengerId      0\n",
       "Survived         0\n",
       "Pclass           0\n",
       "Name             0\n",
       "Sex              0\n",
       "Age              0\n",
       "SibSp            0\n",
       "Parch            0\n",
       "Ticket           0\n",
       "Fare             0\n",
       "Cabin          687\n",
       "Embarked         2\n",
       "dtype: int64"
      ]
     },
     "execution_count": 20,
     "metadata": {},
     "output_type": "execute_result"
    }
   ],
   "source": [
    "train.isnull().sum()"
   ]
  },
  {
   "cell_type": "code",
   "execution_count": 21,
   "id": "fa3787bd",
   "metadata": {},
   "outputs": [
    {
     "data": {
      "text/plain": [
       "PassengerId      0\n",
       "Pclass           0\n",
       "Name             0\n",
       "Sex              0\n",
       "Age              0\n",
       "SibSp            0\n",
       "Parch            0\n",
       "Ticket           0\n",
       "Fare             0\n",
       "Cabin          327\n",
       "Embarked         0\n",
       "dtype: int64"
      ]
     },
     "execution_count": 21,
     "metadata": {},
     "output_type": "execute_result"
    }
   ],
   "source": [
    "test.isnull().sum()"
   ]
  },
  {
   "cell_type": "code",
   "execution_count": 22,
   "id": "8386a2de",
   "metadata": {},
   "outputs": [],
   "source": [
    "x_train=train[[\"Age\",\"Parch\"]]\n",
    "y_train=train[\"Fare\"]"
   ]
  },
  {
   "cell_type": "code",
   "execution_count": 23,
   "id": "7ddfcd98",
   "metadata": {},
   "outputs": [],
   "source": [
    "x_test=test[[\"Age\",\"Parch\"]]\n",
    "y_test=test[\"Fare\"]"
   ]
  },
  {
   "cell_type": "code",
   "execution_count": 24,
   "id": "abc27512",
   "metadata": {},
   "outputs": [],
   "source": [
    "from sklearn import model_selection\n",
    "from sklearn.model_selection import train_test_split\n",
    "from sklearn.linear_model import LinearRegression"
   ]
  },
  {
   "cell_type": "markdown",
   "id": "7a5845c5",
   "metadata": {},
   "source": [
    "## Creating a train and test split"
   ]
  },
  {
   "cell_type": "code",
   "execution_count": 25,
   "id": "8470209e",
   "metadata": {},
   "outputs": [],
   "source": [
    "xtrain,xtest,ytrain,ytest=train_test_split(x_train,y_train,test_size=0.3,random_state=42)"
   ]
  },
  {
   "cell_type": "markdown",
   "id": "3b2eb55b",
   "metadata": {},
   "source": [
    "## Fitting linear regression to the dataset"
   ]
  },
  {
   "cell_type": "code",
   "execution_count": 26,
   "id": "05ccdebf",
   "metadata": {},
   "outputs": [
    {
     "data": {
      "text/plain": [
       "LinearRegression()"
      ]
     },
     "execution_count": 26,
     "metadata": {},
     "output_type": "execute_result"
    }
   ],
   "source": [
    "lin=LinearRegression()\n",
    "lin.fit(xtrain,ytrain)"
   ]
  },
  {
   "cell_type": "markdown",
   "id": "dcc19177",
   "metadata": {},
   "source": [
    "## obtaining the coefficient and intercept"
   ]
  },
  {
   "cell_type": "code",
   "execution_count": 27,
   "id": "0c756b20",
   "metadata": {},
   "outputs": [
    {
     "data": {
      "text/plain": [
       "array([ 0.55624112, 14.63051469])"
      ]
     },
     "execution_count": 27,
     "metadata": {},
     "output_type": "execute_result"
    }
   ],
   "source": [
    "lin.coef_"
   ]
  },
  {
   "cell_type": "code",
   "execution_count": 28,
   "id": "1c0e1b04",
   "metadata": {},
   "outputs": [
    {
     "data": {
      "text/plain": [
       "10.489449840170217"
      ]
     },
     "execution_count": 28,
     "metadata": {},
     "output_type": "execute_result"
    }
   ],
   "source": [
    "lin.intercept_"
   ]
  },
  {
   "cell_type": "markdown",
   "id": "af266d0f",
   "metadata": {},
   "source": [
    "## predicting the test set of the training data"
   ]
  },
  {
   "cell_type": "code",
   "execution_count": 29,
   "id": "6f7e848b",
   "metadata": {},
   "outputs": [
    {
     "data": {
      "text/plain": [
       "array([ 38.46975144,  27.7329246 ,  21.61427227,  28.45741126,\n",
       "        18.27682554,  24.951719  ,  23.83923675,  19.38930778,\n",
       "        19.38930778,  50.31906053,  31.07037133,  34.96405918,\n",
       "        38.46975144,  27.17668348,  30.51413021,  34.01982247,\n",
       "        33.85157694,  23.83923675,  25.50796012,  36.63278255,\n",
       "        23.83923675,  29.40164797,  21.05803115,  21.61427227,\n",
       "        23.83923675,  45.31289043,  32.7390947 ,  27.7329246 ,\n",
       "        41.97544371,  27.7329246 ,  21.05803115,  22.72675451,\n",
       "        23.83923675,  23.83923675,  20.50179003,  25.50796012,\n",
       "        26.06420124,  23.83923675,  27.17668348,  23.83923675,\n",
       "        22.17051339,  26.62044236,  23.83923675,  23.83923675,\n",
       "        50.15081499,  63.28085185,  21.05803115,  23.28299563,\n",
       "        23.83923675,  72.01246426,  27.90117014,  54.04450284,\n",
       "        91.26115346,  45.86913156,  46.64512273,  49.76281941,\n",
       "        28.28916572,  52.9320206 ,  29.95788909,  21.05803115,\n",
       "        22.17051339,  32.35109911,  26.06420124,  23.83923675,\n",
       "        23.83923675,  42.19519376,  22.17051339,  26.62044236,\n",
       "        34.57606359,  39.41398815,  39.58223369,  49.76281941,\n",
       "        24.951719  ,  46.81336826,  23.28299563,  30.51413021,\n",
       "        27.45480404,  51.98778389,  31.62661245,  62.5563652 ,\n",
       "        34.01982247,  26.62044236,  47.36960939,  23.83923675,\n",
       "        41.63895264,  49.98256946,  27.7329246 ,  27.17668348,\n",
       "        31.62661245,  23.83923675,  44.75664931,  44.75664931,\n",
       "        44.42015825,  23.83923675,  23.83923675,  26.06420124,\n",
       "        37.18902367,  35.5203003 ,  30.51413021,  25.50796012,\n",
       "        46.08888161,  29.95788909,  21.05803115,  31.62661245,\n",
       "        27.45480404,  24.39547788,  47.36960939,  36.63278255,\n",
       "        27.17668348,  32.7390947 ,  23.83923675,  21.89239283,\n",
       "        23.83923675,  30.51413021,  23.83923675,  21.61427227,\n",
       "        49.98256946,  30.51413021,  37.3572692 ,  81.08056774,\n",
       "        37.91351032,  28.28916572,  45.53264049,  40.21215935,\n",
       "        24.39547788,  29.95788909,  37.74526479,  23.83923675,\n",
       "        23.83923675,  22.17051339,  23.83923675,  38.46975144,\n",
       "        23.83923675,  13.27065545,  37.74526479,  18.83306666,\n",
       "        23.83923675,  26.62044236,  33.85157694,  20.50179003,\n",
       "        22.17051339,  34.96405918,  26.06420124,  31.07037133,\n",
       "       105.33542703,  44.03216266,  27.17668348,  47.20136385,\n",
       "        23.83923675,  34.40781806,  23.83923675,  23.83923675,\n",
       "        20.50179003,  23.83923675,  23.83923675,  23.83923675,\n",
       "        23.83923675,  23.83923675,  30.51413021,  42.91968042,\n",
       "        23.56111619,  23.83923675,  32.18285357,  23.83923675,\n",
       "        23.83923675,  61.27563742,  23.28299563,  23.83923675,\n",
       "        22.72675451,  29.95788909,  37.91351032,  49.76281941,\n",
       "        30.51413021,  30.12613462,  19.9455489 ,  23.83923675,\n",
       "       104.7791859 ,  19.9455489 ,  27.34492902,  35.79842086,\n",
       "        23.28299563,  28.28916572,  24.951719  ,  43.08792595,\n",
       "        38.46975144,  35.5203003 ,  26.62044236,  23.83923675,\n",
       "        23.83923675,  33.85157694,  45.1446449 ,  28.84540685,\n",
       "        19.9455489 ,  26.62044236,  52.9320206 ,  29.95788909,\n",
       "        31.62661245,  29.40164797,  19.9455489 ,  45.86913156,\n",
       "        44.42015825,  27.17668348,  43.64416707,  45.53264049,\n",
       "        21.61427227,  53.10026613,  26.62044236,  59.77515959,\n",
       "        23.83923675,  38.30150591,  54.7689895 ,  27.17668348,\n",
       "        28.84540685,  23.83923675,  38.46975144,  26.23244677,\n",
       "        39.02599257,  53.48826172,  39.02599257,  23.83923675,\n",
       "        23.83923675,  23.83923675,  35.13230472,  23.83923675,\n",
       "        24.39547788,  53.10026613,  22.72675451,  40.26222105,\n",
       "        23.83923675,  24.951719  ,  29.40164797,  51.43154277,\n",
       "        23.83923675,  23.83923675,  23.83923675,  22.72675451,\n",
       "        44.97639937,  20.50179003,  33.85157694,  42.19519376,\n",
       "        21.05803115,  33.85157694,  23.83923675,  21.61427227,\n",
       "        29.67976853,  26.06420124,  23.83923675,  23.28299563,\n",
       "        22.72675451,  39.41398815,  27.17668348,  60.05328015,\n",
       "        23.83923675,  22.72675451,  38.30150591,  25.50796012,\n",
       "        22.72675451,  38.85774703,  30.51413021,  26.62044236,\n",
       "        22.72675451,  38.30150591,  32.7390947 ,  25.50796012,\n",
       "        23.83923675,  46.64512273,  19.9455489 ,  26.06420124])"
      ]
     },
     "execution_count": 29,
     "metadata": {},
     "output_type": "execute_result"
    }
   ],
   "source": [
    "prediction=lin.predict(xtest)\n",
    "prediction"
   ]
  },
  {
   "cell_type": "markdown",
   "id": "52ed75d1",
   "metadata": {},
   "source": [
    "## Obtaining the RMSE for the model"
   ]
  },
  {
   "cell_type": "code",
   "execution_count": 30,
   "id": "b97095b1",
   "metadata": {},
   "outputs": [],
   "source": [
    "import math"
   ]
  },
  {
   "cell_type": "code",
   "execution_count": 31,
   "id": "5c843150",
   "metadata": {},
   "outputs": [
    {
     "data": {
      "text/plain": [
       "44.63260755809465"
      ]
     },
     "execution_count": 31,
     "metadata": {},
     "output_type": "execute_result"
    }
   ],
   "source": [
    "rmse=math.sqrt(mean_squared_error(ytest,prediction))\n",
    "rmse"
   ]
  },
  {
   "cell_type": "markdown",
   "id": "59cc78f3",
   "metadata": {},
   "source": [
    "## Prediction e.g predicting sales for each product at a particular store in the test data"
   ]
  },
  {
   "cell_type": "code",
   "execution_count": 32,
   "id": "c51b4aa7",
   "metadata": {},
   "outputs": [
    {
     "data": {
      "text/plain": [
       "array([ 29.67976853,  36.63278255,  44.97639937,  25.50796012,\n",
       "        37.3572692 ,  18.27682554,  27.17668348,  39.58223369,\n",
       "        20.50179003,  22.17051339,  22.17051339,  36.07654142,\n",
       "        23.28299563,  45.53264049,  36.63278255,  23.83923675,\n",
       "        29.95788909,  22.17051339,  25.50796012,  35.5203003 ,\n",
       "        41.08271152,  30.12613462,  22.17051339,  36.80102808,\n",
       "        81.08056774,  38.30150591,  37.3572692 ,  23.00487507,\n",
       "        33.29533582,  22.17051339,  38.30150591,  23.83923675,\n",
       "        58.10643623,  51.43154277,  27.17668348,  20.77991059,\n",
       "        22.17051339,  22.17051339,  24.39547788,  22.17051339,\n",
       "        46.81336826,  22.17051339,  33.29533582,  27.17668348,\n",
       "        35.5203003 ,  24.39547788,  35.5203003 ,  22.17051339,\n",
       "        43.86391712,  59.77515959,  23.83923675,  25.50796012,\n",
       "        36.24478696,  55.32523062,  22.17051339,  30.68237574,\n",
       "        29.95788909,  24.39547788,  22.17051339,  30.51413021,\n",
       "        19.9455489 ,  28.28916572,  20.50179003,  22.72675451,\n",
       "        46.9816138 ,  22.17051339,  20.50179003,  36.63278255,\n",
       "        27.7329246 , 102.38597588,  23.83923675,  22.17051339,\n",
       "        26.62044236,  26.3423218 ,  29.95788909,  28.56728629,\n",
       "        22.17051339,  41.08271152,  27.17668348,  23.83923675,\n",
       "        28.45741126,  47.75760497,  37.74526479,  22.17051339,\n",
       "        22.17051339,  22.17051339,  25.50796012,  20.50179003,\n",
       "        22.17051339,  26.23244677,  22.72675451,  22.17051339,\n",
       "        54.7689895 ,  22.17051339,  24.39547788,  24.39547788,\n",
       "        52.76377507,  26.62044236,  21.61427227,  28.84540685,\n",
       "        34.40781806,  25.50796012,  22.17051339,  24.951719  ,\n",
       "        34.01982247,  26.06420124,  22.17051339,  22.17051339,\n",
       "        22.17051339,  20.77991059,  33.29533582,  22.17051339,\n",
       "        30.51413021,  20.77991059,  45.53264049,  20.50179003,\n",
       "        22.17051339,  25.67620565,  30.51413021,  26.62044236,\n",
       "        17.1643433 ,  22.17051339,  29.95788909,  26.06420124,\n",
       "        22.17051339,  34.57606359,  22.72675451,  22.17051339,\n",
       "        33.85157694,  23.83923675,  28.28916572,  39.97022927,\n",
       "        80.69257215,  22.17051339,  34.40781806,  23.83923675,\n",
       "        25.22983956,  24.951719  ,  23.28299563, 120.52218284,\n",
       "        45.31289043,  28.84540685,  88.31170232,  26.06420124,\n",
       "        33.85157694,  27.7329246 ,  22.17051339,  22.72675451,\n",
       "        22.17051339,  41.80719817,  37.91351032,  22.17051339,\n",
       "        44.14203768,  59.77515959,  46.9816138 ,  23.83923675,\n",
       "        26.62044236,  23.28299563,  33.85157694,  54.21274838,\n",
       "        22.17051339,  29.01365238,  24.951719  ,  22.17051339,\n",
       "        33.29533582,  39.58223369,  37.18902367,  49.76281941,\n",
       "        22.17051339,  22.72675451,  22.17051339,  25.50796012,\n",
       "        23.28299563,  22.17051339, 105.89166815,  48.09409604,\n",
       "        21.61427227,  40.5264704 ,  74.40567428,  75.34991099,\n",
       "        27.17668348,  45.70088602,  20.50179003,  22.17051339,\n",
       "        40.13847481,  32.7390947 ,  36.80102808,  19.9455489 ,\n",
       "        51.43154277,  32.7390947 ,  29.40164797,  22.17051339,\n",
       "        31.51673743,  44.42015825,  44.20040819,  28.84540685,\n",
       "        43.08792595,  20.50179003,  23.28299563,  22.17051339,\n",
       "        22.17051339,  39.93403879,  36.63278255,  29.5698935 ,\n",
       "        24.39547788,  22.17051339,  29.95788909,  23.83923675,\n",
       "        28.84540685,  24.39547788,  28.28916572,  22.17051339,\n",
       "        19.9455489 ,  43.86391712,  60.88764183,  33.85157694,\n",
       "        22.17051339,  56.82570845,  52.9320206 ,  22.17051339,\n",
       "        27.17668348,  22.17051339,  22.72675451,  22.17051339,\n",
       "        39.97022927,  51.43154277,  23.28299563,  22.17051339,\n",
       "        33.01721526,  30.51413021,  18.27682554,  22.17051339,\n",
       "        22.17051339,  22.17051339,  32.18285357,  21.61427227,\n",
       "        46.08888161,  21.61427227,  35.13230472,  37.18902367,\n",
       "        41.08271152,  64.78132968,  50.15081499,  22.17051339,\n",
       "        51.43154277,  33.29533582,  22.72675451,  48.48209163,\n",
       "        26.62044236,  22.17051339,  40.26222105,  21.61427227,\n",
       "        25.50796012,  23.83923675,  28.56728629,  22.17051339,\n",
       "        22.17051339,  26.06420124,  21.05803115,  22.17051339,\n",
       "        30.79225077,  22.17051339,  55.88147174,  25.67620565,\n",
       "        27.17668348,  22.17051339,  22.17051339,  22.17051339,\n",
       "        22.17051339,  19.9455489 ,  36.07654142,  22.17051339,\n",
       "        24.951719  ,  22.17051339,  22.17051339,  21.61427227,\n",
       "        26.06420124,  32.7390947 ,  27.17668348,  22.72675451,\n",
       "        23.28299563,  25.53714537,  22.17051339,  30.12613462,\n",
       "        26.23244677,  30.51413021,  22.17051339,  23.83923675,\n",
       "        22.17051339,  22.17051339,  22.17051339,  27.17668348,\n",
       "        22.17051339,  54.60074396,  30.51413021,  24.951719  ,\n",
       "        40.30672034,  22.17051339,  27.17668348,  26.62044236,\n",
       "        28.28916572,  22.17051339,  49.03833275,  23.83923675,\n",
       "        22.17051339,  60.7193963 ,  56.43771286,  25.58164466,\n",
       "        55.71322621,  35.5203003 ,  20.50179003,  22.72675451,\n",
       "        22.17051339,  31.07037133,  41.08271152,  19.9455489 ,\n",
       "        42.19519376,  21.05803115,  25.50796012,  22.72675451,\n",
       "        24.951719  ,  24.39547788,  24.951719  ,  28.84540685,\n",
       "        32.18285357,  23.28299563,  31.79485799,  36.07654142,\n",
       "        26.62044236,  22.17051339,  66.45005305,  32.18285357,\n",
       "        22.17051339,  35.68854584,  25.50796012,  27.17668348,\n",
       "        28.28916572,  61.44388296,  24.39547788,  22.17051339,\n",
       "        20.50179003,  28.28916572, 153.8451456 ,  57.38194957,\n",
       "        36.80102808,  19.38930778,  24.951719  ,  31.62661245,\n",
       "        23.83923675,  27.7329246 ,  50.15081499,  24.39547788,\n",
       "        20.50179003,  67.00629417,  39.84504021,  38.30150591,\n",
       "        43.307676  ,  22.17051339,  22.17051339,  27.17668348,\n",
       "        47.81597548,  38.46975144,  27.7329246 ,  25.50796012,\n",
       "        24.39547788, 153.8451456 ,  22.17051339,  22.72675451,\n",
       "        50.15081499,  26.62044236,  22.17051339,  27.7329246 ,\n",
       "        37.74526479,  34.96405918,  55.15698509,  35.5203003 ,\n",
       "        22.72675451,  22.17051339,  41.08271152,  42.53168483,\n",
       "        22.17051339,  24.951719  ,  22.17051339,  21.05803115,\n",
       "        22.17051339,  53.10026613,  23.83923675,  42.19519376,\n",
       "        22.17051339,  28.45741126,  23.28299563,  53.48826172,\n",
       "        46.9816138 ,  36.63278255,  41.25095705,  20.50179003,\n",
       "        23.83923675,  51.81953836,  22.72675451,  27.7329246 ,\n",
       "        27.17668348,  31.62661245,  37.3572692 ,  19.9455489 ,\n",
       "        34.40781806,  21.61427227,  23.28299563,  52.9320206 ,\n",
       "        22.17051339,  26.78868789,  22.17051339,  31.07037133,\n",
       "        26.06420124,  22.17051339,  32.18285357,  31.90473301,\n",
       "        22.17051339,  36.80102808])"
      ]
     },
     "execution_count": 32,
     "metadata": {},
     "output_type": "execute_result"
    }
   ],
   "source": [
    "y_sales_prediction=lin.predict(x_test)\n",
    "y_sales_prediction"
   ]
  },
  {
   "cell_type": "code",
   "execution_count": null,
   "id": "a3b72f05",
   "metadata": {},
   "outputs": [],
   "source": []
  }
 ],
 "metadata": {
  "kernelspec": {
   "display_name": "Python 3 (ipykernel)",
   "language": "python",
   "name": "python3"
  },
  "language_info": {
   "codemirror_mode": {
    "name": "ipython",
    "version": 3
   },
   "file_extension": ".py",
   "mimetype": "text/x-python",
   "name": "python",
   "nbconvert_exporter": "python",
   "pygments_lexer": "ipython3",
   "version": "3.9.7"
  }
 },
 "nbformat": 4,
 "nbformat_minor": 5
}
